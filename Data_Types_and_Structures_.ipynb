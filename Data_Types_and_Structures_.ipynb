{
  "nbformat": 4,
  "nbformat_minor": 0,
  "metadata": {
    "colab": {
      "provenance": []
    },
    "kernelspec": {
      "name": "python3",
      "display_name": "Python 3"
    },
    "language_info": {
      "name": "python"
    }
  },
  "cells": [
    {
      "cell_type": "markdown",
      "source": [
        "# Data Types and Structures - Theory Questions"
      ],
      "metadata": {
        "id": "y2GDjWSqKqvL"
      }
    },
    {
      "cell_type": "markdown",
      "source": [
        "**1. What are data structures, and why are they important?**\n",
        "   - Data structures are organized formats for storing and managing data in a computer so that it can be used efficiently. They define the relationship between the data and the operations that can be performed on that data.\n",
        "   - Data Structures Are Important for the following reasons:\n",
        "            1. Efficiency\n",
        "            2. Scalability\n",
        "            3. Resuability and abstraction\n",
        "            4. Problem solving\n",
        "            5. Resource optimization\n",
        "   - Python comes with several built-in data structures, and also allows the creation of custom ones.\n",
        "   - For example:"
      ],
      "metadata": {
        "id": "1GfCd8ktKxGM"
      }
    },
    {
      "cell_type": "code",
      "source": [
        "fruits = ['apple', 'banana', 'mango'] # List\n",
        "print(fruits[1])\n",
        "\n",
        "coordinates = (10, 20) # Tuple\n",
        "print(coordinates[0])\n",
        "\n",
        "unique_numbers = {1, 2, 3, 2} # Set\n",
        "print(unique_numbers)\n",
        "\n",
        "student = {'name': 'Alice', 'age': 21} # Dictionary\n",
        "print(student['name'])\n",
        "\n",
        "stack = [] # Stack\n",
        "stack.append(10)\n",
        "stack.append(20)\n",
        "stack.pop()\n",
        "print(stack)\n",
        "\n",
        "from collections import deque # Queue\n",
        "queue = deque()\n",
        "queue.append(10)\n",
        "queue.append(20)\n",
        "queue.popleft()\n",
        "print(queue)\n",
        "\n"
      ],
      "metadata": {
        "colab": {
          "base_uri": "https://localhost:8080/"
        },
        "id": "s0ZsmrAtMNA2",
        "outputId": "be1f0400-87ad-47ee-e3dd-77daee4b4af6"
      },
      "execution_count": 1,
      "outputs": [
        {
          "output_type": "stream",
          "name": "stdout",
          "text": [
            "banana\n",
            "10\n",
            "{1, 2, 3}\n",
            "Alice\n",
            "[10]\n",
            "deque([20])\n"
          ]
        }
      ]
    },
    {
      "cell_type": "markdown",
      "source": [
        "**2.  Explain the difference between mutable and immutable data types with examples.**\n",
        "   - *Mutable*:\n",
        "            -> A mutable object can be changed after it is created.\n",
        "            -> it can be modified, added, or removed without creating a new object.\n",
        "            -> Examples: List, Dictionary, Sets\n",
        "   - *Immutable:*\n",
        "            -> An immutable object cannot be changed after it is created.\n",
        "            -> Any modification creates a new object in memory.\n",
        "            -> Examples: String, Tuple, Integers, Float, Boolean\n",
        "   - For example:"
      ],
      "metadata": {
        "id": "o1tycf02M_mW"
      }
    },
    {
      "cell_type": "code",
      "source": [
        "my_list = [1, 2, 3] # Mutable\n",
        "print((my_list))\n",
        "\n",
        "my_list.append(4)\n",
        "print(my_list)\n",
        "\n"
      ],
      "metadata": {
        "colab": {
          "base_uri": "https://localhost:8080/"
        },
        "id": "YH1JQExwOeng",
        "outputId": "87bf130e-5907-4e4b-aa29-944ab841d39b"
      },
      "execution_count": 3,
      "outputs": [
        {
          "output_type": "stream",
          "name": "stdout",
          "text": [
            "[1, 2, 3]\n",
            "[1, 2, 3, 4]\n"
          ]
        }
      ]
    },
    {
      "cell_type": "code",
      "source": [
        "my_tuple = (1, 2, 3) # Immutable\n",
        "print((my_tuple))\n",
        "\n",
        "my_tuple.append(4)\n",
        "print(my_tuple)"
      ],
      "metadata": {
        "colab": {
          "base_uri": "https://localhost:8080/",
          "height": 211
        },
        "id": "u_CGEq3EOqX5",
        "outputId": "238a7ef1-ad49-4ac4-d4da-04c229da2789"
      },
      "execution_count": 4,
      "outputs": [
        {
          "output_type": "stream",
          "name": "stdout",
          "text": [
            "(1, 2, 3)\n"
          ]
        },
        {
          "output_type": "error",
          "ename": "AttributeError",
          "evalue": "'tuple' object has no attribute 'append'",
          "traceback": [
            "\u001b[0;31m---------------------------------------------------------------------------\u001b[0m",
            "\u001b[0;31mAttributeError\u001b[0m                            Traceback (most recent call last)",
            "\u001b[0;32m<ipython-input-4-d32b1fad463e>\u001b[0m in \u001b[0;36m<cell line: 0>\u001b[0;34m()\u001b[0m\n\u001b[1;32m      2\u001b[0m \u001b[0mprint\u001b[0m\u001b[0;34m(\u001b[0m\u001b[0;34m(\u001b[0m\u001b[0mmy_tuple\u001b[0m\u001b[0;34m)\u001b[0m\u001b[0;34m)\u001b[0m\u001b[0;34m\u001b[0m\u001b[0;34m\u001b[0m\u001b[0m\n\u001b[1;32m      3\u001b[0m \u001b[0;34m\u001b[0m\u001b[0m\n\u001b[0;32m----> 4\u001b[0;31m \u001b[0mmy_tuple\u001b[0m\u001b[0;34m.\u001b[0m\u001b[0mappend\u001b[0m\u001b[0;34m(\u001b[0m\u001b[0;36m4\u001b[0m\u001b[0;34m)\u001b[0m\u001b[0;34m\u001b[0m\u001b[0;34m\u001b[0m\u001b[0m\n\u001b[0m\u001b[1;32m      5\u001b[0m \u001b[0mprint\u001b[0m\u001b[0;34m(\u001b[0m\u001b[0mmy_tuple\u001b[0m\u001b[0;34m)\u001b[0m\u001b[0;34m\u001b[0m\u001b[0;34m\u001b[0m\u001b[0m\n",
            "\u001b[0;31mAttributeError\u001b[0m: 'tuple' object has no attribute 'append'"
          ]
        }
      ]
    },
    {
      "cell_type": "markdown",
      "source": [
        "**3. What are the main differences between lists and tuples in Python?**\n",
        "   - Lists:\n",
        "          -> They are Mutable(Changable)\n",
        "          -> Lists can be used when there is need to add/remove/change items frequently\n",
        "          -> Slightly slower (more flexible)\n",
        "   - Tuples:\n",
        "          -> They are immutable(Non Changable)\n",
        "          -> Tuples are used when data should be remained constant.\n",
        "          -> Slightly faster (not flexible)\n",
        "   - For example:\n",
        "   "
      ],
      "metadata": {
        "id": "kAvhTD4WPAkI"
      }
    },
    {
      "cell_type": "code",
      "source": [
        "my_list = [1,2,3] #lists can be changed because they are mutable\n",
        "my_list.append(10)\n",
        "print(my_list)\n",
        "\n",
        "my_tuple = (1,2,3) #tuples can't be changed because they are immutable\n",
        "my_tuple.append(10)\n",
        "print(my_tuple)"
      ],
      "metadata": {
        "colab": {
          "base_uri": "https://localhost:8080/",
          "height": 211
        },
        "id": "69IdX7qmQ-zT",
        "outputId": "35658694-518e-4cbe-8aad-575ec5a819f6"
      },
      "execution_count": 5,
      "outputs": [
        {
          "output_type": "stream",
          "name": "stdout",
          "text": [
            "[1, 2, 3, 10]\n"
          ]
        },
        {
          "output_type": "error",
          "ename": "AttributeError",
          "evalue": "'tuple' object has no attribute 'append'",
          "traceback": [
            "\u001b[0;31m---------------------------------------------------------------------------\u001b[0m",
            "\u001b[0;31mAttributeError\u001b[0m                            Traceback (most recent call last)",
            "\u001b[0;32m<ipython-input-5-c0659b4989f4>\u001b[0m in \u001b[0;36m<cell line: 0>\u001b[0;34m()\u001b[0m\n\u001b[1;32m      4\u001b[0m \u001b[0;34m\u001b[0m\u001b[0m\n\u001b[1;32m      5\u001b[0m \u001b[0mmy_tuple\u001b[0m \u001b[0;34m=\u001b[0m \u001b[0;34m(\u001b[0m\u001b[0;36m1\u001b[0m\u001b[0;34m,\u001b[0m\u001b[0;36m2\u001b[0m\u001b[0;34m,\u001b[0m\u001b[0;36m3\u001b[0m\u001b[0;34m)\u001b[0m\u001b[0;34m\u001b[0m\u001b[0;34m\u001b[0m\u001b[0m\n\u001b[0;32m----> 6\u001b[0;31m \u001b[0mmy_tuple\u001b[0m\u001b[0;34m.\u001b[0m\u001b[0mappend\u001b[0m\u001b[0;34m(\u001b[0m\u001b[0;36m10\u001b[0m\u001b[0;34m)\u001b[0m\u001b[0;34m\u001b[0m\u001b[0;34m\u001b[0m\u001b[0m\n\u001b[0m\u001b[1;32m      7\u001b[0m \u001b[0mprint\u001b[0m\u001b[0;34m(\u001b[0m\u001b[0mmy_tuple\u001b[0m\u001b[0;34m)\u001b[0m\u001b[0;34m\u001b[0m\u001b[0;34m\u001b[0m\u001b[0m\n",
            "\u001b[0;31mAttributeError\u001b[0m: 'tuple' object has no attribute 'append'"
          ]
        }
      ]
    },
    {
      "cell_type": "markdown",
      "source": [
        "**4. Describe how dictionaries store data.**\n",
        "   - Dictionary data type is another feature in Python\n",
        "   - The dictionary is an unordered data set of comma - seperated key:value pairs, within {}, with the requirement that within a dictionary, no two keys can be same.\n",
        "   - For example:"
      ],
      "metadata": {
        "id": "Oe97BJxIRhzi"
      }
    },
    {
      "cell_type": "code",
      "source": [
        "my_dict = {\"name\": \"Saa\",\"age\": 18,\"city\": \"Salem\"}\n",
        "print(my_dict)\n"
      ],
      "metadata": {
        "colab": {
          "base_uri": "https://localhost:8080/"
        },
        "id": "MpPRQAp2ScpD",
        "outputId": "5be788a1-7bff-4895-b869-47279ddb2fe2"
      },
      "execution_count": 6,
      "outputs": [
        {
          "output_type": "stream",
          "name": "stdout",
          "text": [
            "{'name': 'Saa', 'age': 18, 'city': 'Salem'}\n"
          ]
        }
      ]
    },
    {
      "cell_type": "markdown",
      "source": [
        "**5. Why might you use a set instead of a list in Python?**\n",
        "   - Sets are also similar to lists that can store multiple values.\n",
        "   - Python sets are slightly different from lists due to the factors such as:\n",
        "             -> Sets are created by specifying comma seperated values enclosed in curly brackets {}.\n",
        "             -> Sets are unordered and unindexed unlike lists\n",
        "             -> Sets do not allow duplicate entries like lists\n",
        "             -> Sets cannot contain mutable elements\n",
        "   - For example:\n",
        "\n",
        "          \n",
        "              "
      ],
      "metadata": {
        "id": "MwONKH-dStYn"
      }
    },
    {
      "cell_type": "code",
      "source": [
        "myset = {1,2,3,4,4,3} # doesn't allow duplicate values\n",
        "print(myset)\n"
      ],
      "metadata": {
        "colab": {
          "base_uri": "https://localhost:8080/"
        },
        "id": "LeN2QuM2T8GO",
        "outputId": "b9beb3d6-3e5c-412e-d305-3a10632dc009"
      },
      "execution_count": 7,
      "outputs": [
        {
          "output_type": "stream",
          "name": "stdout",
          "text": [
            "{1, 2, 3, 4}\n"
          ]
        }
      ]
    },
    {
      "cell_type": "markdown",
      "source": [
        "**6. What is a string in Python, and how is it different from a list?**\n",
        "   - A Python string is a sequence of characters and each character can be individually accessed using its index.\n",
        "   - Each character stored in the string is a Unicode character.\n",
        "   -*Strings* are immutable (which cannot be changed), whereas *Lists* are mutable (which can be changed).\n",
        "   - For example:\n",
        "\n",
        "\n",
        "\n"
      ],
      "metadata": {
        "id": "nASGigtbUO-s"
      }
    },
    {
      "cell_type": "code",
      "source": [
        "Name = \"Prathysaa\"\n",
        "print(f\"My Name is {Name}.\")"
      ],
      "metadata": {
        "colab": {
          "base_uri": "https://localhost:8080/"
        },
        "id": "nFOkbjhcVloW",
        "outputId": "6e4e928b-4fe7-4f0d-b3e4-633d16c0fbf8"
      },
      "execution_count": 9,
      "outputs": [
        {
          "output_type": "stream",
          "name": "stdout",
          "text": [
            "My Name is Prathysaa.\n"
          ]
        }
      ]
    },
    {
      "cell_type": "markdown",
      "source": [
        "**7. How do tuples ensure data integrity in Python?**\n",
        "   - Data integrity means ensuring that data remains:\n",
        "          -> Consistent\n",
        "          -> Accurate\n",
        "          -> Unchanged\n",
        "   - Tuples in Python help ensure data integrity because they are immutable — once a tuple is created, its elements cannot be changed, added, or removed.\n",
        "   - For example:\n",
        "        "
      ],
      "metadata": {
        "id": "P6nvZH_aV6Pz"
      }
    },
    {
      "cell_type": "code",
      "source": [
        "students_id = (2022, 2023, 2024, 2025) # Accidentally trying to change it will raise an error\n",
        "students_id[1]=2026\n",
        "print(students_id)\n"
      ],
      "metadata": {
        "colab": {
          "base_uri": "https://localhost:8080/",
          "height": 176
        },
        "id": "UGkN2h_tWdiH",
        "outputId": "c0f71ddc-1305-42e8-d41d-6b8e797a51fc"
      },
      "execution_count": 10,
      "outputs": [
        {
          "output_type": "error",
          "ename": "TypeError",
          "evalue": "'tuple' object does not support item assignment",
          "traceback": [
            "\u001b[0;31m---------------------------------------------------------------------------\u001b[0m",
            "\u001b[0;31mTypeError\u001b[0m                                 Traceback (most recent call last)",
            "\u001b[0;32m<ipython-input-10-e114cfde1209>\u001b[0m in \u001b[0;36m<cell line: 0>\u001b[0;34m()\u001b[0m\n\u001b[1;32m      1\u001b[0m \u001b[0mstudents_id\u001b[0m \u001b[0;34m=\u001b[0m \u001b[0;34m(\u001b[0m\u001b[0;36m2022\u001b[0m\u001b[0;34m,\u001b[0m \u001b[0;36m2023\u001b[0m\u001b[0;34m,\u001b[0m \u001b[0;36m2024\u001b[0m\u001b[0;34m,\u001b[0m \u001b[0;36m2025\u001b[0m\u001b[0;34m)\u001b[0m\u001b[0;34m\u001b[0m\u001b[0;34m\u001b[0m\u001b[0m\n\u001b[0;32m----> 2\u001b[0;31m \u001b[0mstudents_id\u001b[0m\u001b[0;34m[\u001b[0m\u001b[0;36m1\u001b[0m\u001b[0;34m]\u001b[0m\u001b[0;34m=\u001b[0m\u001b[0;36m2026\u001b[0m\u001b[0;34m\u001b[0m\u001b[0;34m\u001b[0m\u001b[0m\n\u001b[0m\u001b[1;32m      3\u001b[0m \u001b[0mprint\u001b[0m\u001b[0;34m(\u001b[0m\u001b[0mstudents_id\u001b[0m\u001b[0;34m)\u001b[0m\u001b[0;34m\u001b[0m\u001b[0;34m\u001b[0m\u001b[0m\n",
            "\u001b[0;31mTypeError\u001b[0m: 'tuple' object does not support item assignment"
          ]
        }
      ]
    },
    {
      "cell_type": "markdown",
      "source": [
        "**8. What is a hash table, and how does it relate to dictionaries in Python?**\n",
        "   - A hash table is a data structure that stores key-value pairs. It uses a hash function to compute an index (called a hash) where the value is stored in memory.\n",
        "   - In Python, the built-in dict type is implemented using a hash table.\n",
        "   - To work with a hash table, dictionary keys must be:\n",
        "       -> Immutable\n",
        "       -> Hashable\n",
        "   - For example:\n",
        "   \n",
        "      "
      ],
      "metadata": {
        "id": "-m8fV9HcXI4G"
      }
    },
    {
      "cell_type": "code",
      "source": [
        "vowels = {'a':1, 'e':2, 'i':3, 'o':4, 'u':5}\n",
        "vowels['a']\n",
        ""
      ],
      "metadata": {
        "colab": {
          "base_uri": "https://localhost:8080/"
        },
        "id": "IGlNF38NYCgQ",
        "outputId": "79c69526-b714-4ad3-a148-adcca0612170"
      },
      "execution_count": 11,
      "outputs": [
        {
          "output_type": "execute_result",
          "data": {
            "text/plain": [
              "1"
            ]
          },
          "metadata": {},
          "execution_count": 11
        }
      ]
    },
    {
      "cell_type": "markdown",
      "source": [
        "**9.  Can lists contain different data types in Python?**\n",
        "   - Yes! Lists in Python can contain different data types.\n",
        "   - It can contain:\n",
        "        * String\n",
        "        * Integers\n",
        "        * Float\n",
        "        * boolean\n",
        "        * None type\n",
        "        * Dictionary\n",
        "        * Another List\n",
        "   - For example:"
      ],
      "metadata": {
        "id": "zrKoEXTFYgF5"
      }
    },
    {
      "cell_type": "code",
      "source": [
        "my_list = [\"Prathysaa\", 18, 20.23, True, None, {'name':\"Saa\"},[1,2,3]]\n",
        "print(my_list)"
      ],
      "metadata": {
        "colab": {
          "base_uri": "https://localhost:8080/"
        },
        "id": "OAwfIG0iZSRm",
        "outputId": "53622faa-e3ae-4ed8-c921-a816c2be49a9"
      },
      "execution_count": 12,
      "outputs": [
        {
          "output_type": "stream",
          "name": "stdout",
          "text": [
            "['Prathysaa', 18, 20.23, True, None, {'name': 'Saa'}, [1, 2, 3]]\n"
          ]
        }
      ]
    },
    {
      "cell_type": "markdown",
      "source": [
        "**10. Explain why strings are immutable in Python?**\n",
        "   - \tStrings are often used as keys in dictionaries or in sensitive areas like file paths. Immutability ensures they can't change unexpectedly.\n",
        "   - Python can optimize memory by reusing string objects, this is  possible only because the strings are immutable.\n",
        "   - Reasons for immutability includes:\n",
        "                      -> Safety\n",
        "                      -> Hashing\n",
        "                      -> Consistency\n",
        "                      -> Performance\n",
        "   - For example:"
      ],
      "metadata": {
        "id": "HgtGHMs-ZyqN"
      }
    },
    {
      "cell_type": "code",
      "source": [
        "text = \"hello\"\n",
        "text[0] = \"Y\""
      ],
      "metadata": {
        "colab": {
          "base_uri": "https://localhost:8080/",
          "height": 158
        },
        "id": "Pz8x1AEebEV-",
        "outputId": "48398cec-d522-414f-a117-93f8f7094178"
      },
      "execution_count": 13,
      "outputs": [
        {
          "output_type": "error",
          "ename": "TypeError",
          "evalue": "'str' object does not support item assignment",
          "traceback": [
            "\u001b[0;31m---------------------------------------------------------------------------\u001b[0m",
            "\u001b[0;31mTypeError\u001b[0m                                 Traceback (most recent call last)",
            "\u001b[0;32m<ipython-input-13-27f083ce6136>\u001b[0m in \u001b[0;36m<cell line: 0>\u001b[0;34m()\u001b[0m\n\u001b[1;32m      1\u001b[0m \u001b[0mtext\u001b[0m \u001b[0;34m=\u001b[0m \u001b[0;34m\"hello\"\u001b[0m\u001b[0;34m\u001b[0m\u001b[0;34m\u001b[0m\u001b[0m\n\u001b[0;32m----> 2\u001b[0;31m \u001b[0mtext\u001b[0m\u001b[0;34m[\u001b[0m\u001b[0;36m0\u001b[0m\u001b[0;34m]\u001b[0m \u001b[0;34m=\u001b[0m \u001b[0;34m\"Y\"\u001b[0m\u001b[0;34m\u001b[0m\u001b[0;34m\u001b[0m\u001b[0m\n\u001b[0m",
            "\u001b[0;31mTypeError\u001b[0m: 'str' object does not support item assignment"
          ]
        }
      ]
    },
    {
      "cell_type": "markdown",
      "source": [
        "**11. What advantages do dictionaries offer over lists for certain tasks?**\n",
        "   - Dictionaries are containers that associate keys to values. This is, in a way similar to lists.\n",
        "   -  Advantages of Dictionaries over Lists in Python:\n",
        "          ->  Fast Lookup by Key (hashing)\n",
        "          ->  Key-Value Pair Storage\n",
        "          ->  Flexible Keys - usage of strings, numbers, or even tuples as keys, making data more descriptive.\n",
        "          ->  Better for Structured Data\n",
        "          -> No Need to Remember Indexes\n",
        "   - For example:\n"
      ],
      "metadata": {
        "id": "m0tSveXrba2P"
      }
    },
    {
      "cell_type": "code",
      "source": [
        "Student = {'Name': \"Saa\", 'Marks' : 68, 'Grade': \"C\"}\n",
        "print(Student['Name'])"
      ],
      "metadata": {
        "colab": {
          "base_uri": "https://localhost:8080/"
        },
        "id": "cvCHy6SedDmt",
        "outputId": "a145fc8b-f35e-4aca-a321-d2874fdb87e4"
      },
      "execution_count": 14,
      "outputs": [
        {
          "output_type": "stream",
          "name": "stdout",
          "text": [
            "Saa\n"
          ]
        }
      ]
    },
    {
      "cell_type": "markdown",
      "source": [
        "**12.  Describe a scenario where using a tuple would be preferable over a list.**\n",
        "   -  tuple can be used instead of a list when you want to store a fixed, unchangeable group of items — especially when data integrity, safety, or performance matters.\n",
        "   - Scenario: When to Prefer a Tuple Over a List:\n",
        "         *GPS Coordinates* - Which can't be changed\n",
        "\n",
        "  "
      ],
      "metadata": {
        "id": "n3hgcA1Cdgsk"
      }
    },
    {
      "cell_type": "code",
      "source": [
        "Location = (11.1271,78.6569) # Tamil Nadu (latitude and longitude)\n",
        "Location[1] = 79.256\n",
        "print(Location)"
      ],
      "metadata": {
        "colab": {
          "base_uri": "https://localhost:8080/",
          "height": 176
        },
        "id": "TO7HLCp7eVEr",
        "outputId": "ad991495-4b77-4ec8-c8c0-58f5029a6ddd"
      },
      "execution_count": 15,
      "outputs": [
        {
          "output_type": "error",
          "ename": "TypeError",
          "evalue": "'tuple' object does not support item assignment",
          "traceback": [
            "\u001b[0;31m---------------------------------------------------------------------------\u001b[0m",
            "\u001b[0;31mTypeError\u001b[0m                                 Traceback (most recent call last)",
            "\u001b[0;32m<ipython-input-15-d961e676dd09>\u001b[0m in \u001b[0;36m<cell line: 0>\u001b[0;34m()\u001b[0m\n\u001b[1;32m      1\u001b[0m \u001b[0mLocation\u001b[0m \u001b[0;34m=\u001b[0m \u001b[0;34m(\u001b[0m\u001b[0;36m11.1271\u001b[0m\u001b[0;34m,\u001b[0m\u001b[0;36m78.6569\u001b[0m\u001b[0;34m)\u001b[0m \u001b[0;31m# Tamil Nadu (latitude and longitude)\u001b[0m\u001b[0;34m\u001b[0m\u001b[0;34m\u001b[0m\u001b[0m\n\u001b[0;32m----> 2\u001b[0;31m \u001b[0mLocation\u001b[0m\u001b[0;34m[\u001b[0m\u001b[0;36m1\u001b[0m\u001b[0;34m]\u001b[0m \u001b[0;34m=\u001b[0m \u001b[0;36m79.256\u001b[0m\u001b[0;34m\u001b[0m\u001b[0;34m\u001b[0m\u001b[0m\n\u001b[0m\u001b[1;32m      3\u001b[0m \u001b[0mprint\u001b[0m\u001b[0;34m(\u001b[0m\u001b[0mLocation\u001b[0m\u001b[0;34m)\u001b[0m\u001b[0;34m\u001b[0m\u001b[0;34m\u001b[0m\u001b[0m\n",
            "\u001b[0;31mTypeError\u001b[0m: 'tuple' object does not support item assignment"
          ]
        }
      ]
    },
    {
      "cell_type": "markdown",
      "source": [
        "**13. How do sets handle duplicate values in Python?**\n",
        "   - Sets automatically remove duplicate values in Python.\n",
        "   - When creating a set, any repeated items are stored only once, because sets are unordered collections of unique elements.\n",
        "   - For example:"
      ],
      "metadata": {
        "id": "e5aoqR7GfIpV"
      }
    },
    {
      "cell_type": "code",
      "source": [
        "my_set = {1,2,5,5,2,3,4}\n",
        "print(my_set)"
      ],
      "metadata": {
        "colab": {
          "base_uri": "https://localhost:8080/"
        },
        "id": "LMIh9-0Jfwrg",
        "outputId": "97b27679-bd9d-4944-ca99-fe6ba79b509f"
      },
      "execution_count": 16,
      "outputs": [
        {
          "output_type": "stream",
          "name": "stdout",
          "text": [
            "{1, 2, 3, 4, 5}\n"
          ]
        }
      ]
    },
    {
      "cell_type": "markdown",
      "source": [
        "**14. How does the “in” keyword work differently for lists and dictionaries?**\n",
        "   - In a List:\n",
        "        The *in* keyword checks if a value exists among the elements.\n",
        "   - In a Dictionary:\n",
        "        The *in* keyword checks if the key exists among the elements not the values.\n",
        "   - For example:"
      ],
      "metadata": {
        "id": "ua23zKpxf8an"
      }
    },
    {
      "cell_type": "code",
      "source": [
        "my_list = [1,2,3,4,18.9]\n",
        "print(18.9 in my_list)\n",
        "\n",
        "my_dict = {\"name\": \"Saa\",\"age\": 18,\"city\": \"Salem\"}\n",
        "print(\"name\" in my_dict)\n"
      ],
      "metadata": {
        "colab": {
          "base_uri": "https://localhost:8080/"
        },
        "id": "9PCGIM9hgi0R",
        "outputId": "720311c1-a7dc-4130-ceb7-9ec8a9914303"
      },
      "execution_count": 19,
      "outputs": [
        {
          "output_type": "stream",
          "name": "stdout",
          "text": [
            "True\n",
            "True\n"
          ]
        }
      ]
    },
    {
      "cell_type": "markdown",
      "source": [
        "**15. Can you modify the elements of a tuple? Explain why or why not?**\n",
        "   - No, you cannot modify the elements of a tuple in Python.\n",
        "   - Tuples are immutable, which means once created, their elements cannot be changed, added, or removed.\n",
        "   - For example:\n"
      ],
      "metadata": {
        "id": "sWkVQJtK2VN_"
      }
    },
    {
      "cell_type": "code",
      "source": [
        "my_tuple = (\"apple\",\"banana\",\"cherry\") # cannot be change since tuples are immutable.\n",
        "my_tuple[1]=\"mango\"\n",
        "print(my_tuple)"
      ],
      "metadata": {
        "colab": {
          "base_uri": "https://localhost:8080/",
          "height": 176
        },
        "id": "s4cuf0XW2_As",
        "outputId": "001922e6-9746-4a1e-e6e5-bdc61a1652e1"
      },
      "execution_count": 1,
      "outputs": [
        {
          "output_type": "error",
          "ename": "TypeError",
          "evalue": "'tuple' object does not support item assignment",
          "traceback": [
            "\u001b[0;31m---------------------------------------------------------------------------\u001b[0m",
            "\u001b[0;31mTypeError\u001b[0m                                 Traceback (most recent call last)",
            "\u001b[0;32m<ipython-input-1-28feca5e89f2>\u001b[0m in \u001b[0;36m<cell line: 0>\u001b[0;34m()\u001b[0m\n\u001b[1;32m      1\u001b[0m \u001b[0mmy_tuple\u001b[0m \u001b[0;34m=\u001b[0m \u001b[0;34m(\u001b[0m\u001b[0;34m\"apple\"\u001b[0m\u001b[0;34m,\u001b[0m\u001b[0;34m\"banana\"\u001b[0m\u001b[0;34m,\u001b[0m\u001b[0;34m\"cherry\"\u001b[0m\u001b[0;34m)\u001b[0m\u001b[0;34m\u001b[0m\u001b[0;34m\u001b[0m\u001b[0m\n\u001b[0;32m----> 2\u001b[0;31m \u001b[0mmy_tuple\u001b[0m\u001b[0;34m[\u001b[0m\u001b[0;36m1\u001b[0m\u001b[0;34m]\u001b[0m\u001b[0;34m=\u001b[0m\u001b[0;34m\"mango\"\u001b[0m\u001b[0;34m\u001b[0m\u001b[0;34m\u001b[0m\u001b[0m\n\u001b[0m\u001b[1;32m      3\u001b[0m \u001b[0mprint\u001b[0m\u001b[0;34m(\u001b[0m\u001b[0mmy_tuple\u001b[0m\u001b[0;34m)\u001b[0m\u001b[0;34m\u001b[0m\u001b[0;34m\u001b[0m\u001b[0m\n",
            "\u001b[0;31mTypeError\u001b[0m: 'tuple' object does not support item assignment"
          ]
        }
      ]
    },
    {
      "cell_type": "markdown",
      "source": [
        "**16. What is a nested dictionary, and give an example of its use case?**\n",
        "   - Storing dictionary inside another dictionary is called nested dictionary.\n",
        "   - It allows to store hierarchical or structured data.\n",
        "   - For example:\n",
        "\n",
        "\n",
        "\n"
      ],
      "metadata": {
        "id": "Ye42eIh63WYf"
      }
    },
    {
      "cell_type": "code",
      "source": [
        "Employees = {'John':{'age':25,'salary':25000,},'Diya':{'age':23,'salary':50000}}\n",
        "for key in Employees:\n",
        "  print(\"Employee\",key,':')\n",
        "  print('age:',(Employees[key]['age']))\n",
        "  print('salary:',(Employees[key]['salary']))\n"
      ],
      "metadata": {
        "colab": {
          "base_uri": "https://localhost:8080/"
        },
        "id": "12zRjklb435Z",
        "outputId": "370ed472-00b4-4fe0-f79d-53a84e3f6d28"
      },
      "execution_count": 2,
      "outputs": [
        {
          "output_type": "stream",
          "name": "stdout",
          "text": [
            "Employee John :\n",
            "age: 25\n",
            "salary: 25000\n",
            "Employee Diya :\n",
            "age: 23\n",
            "salary: 50000\n"
          ]
        }
      ]
    },
    {
      "cell_type": "markdown",
      "source": [
        "**17.  Describe the time complexity of accessing elements in a dictionary.**\n",
        "   - In Python, dictionaries are implemented using hash tables, which allow very efficient key-based access.\n",
        "   - Average Case: O(1) – Constant Time\n",
        "          -> Computes the hash of the key\n",
        "          -> Locates the index in memory\n",
        "          -> Returns the value\n",
        "   - Worst Case: O(n) – Linear Time\n",
        "          -> In rare situations with many hash collisions, multiple keys end up in the same bucket.\n",
        "          -> Python resolves these collisions, but in the worst-case (like poorly distributed keys), it may need to search through several elements.\n",
        "          -> This leads to O(n) time in very unlikely cases.\n",
        "   -For example:\n"
      ],
      "metadata": {
        "id": "xjR0KkBh6ctg"
      }
    },
    {
      "cell_type": "code",
      "source": [
        "my_dict = {\"name\": \"Ram\", \"age\": 35} #This process takes the same amount of time, regardless of the dictionary size\n",
        "print(my_dict[\"age\"]) # 0(1) Case"
      ],
      "metadata": {
        "id": "cHZyB8-C9ZWA"
      },
      "execution_count": null,
      "outputs": []
    },
    {
      "cell_type": "markdown",
      "source": [
        "**18. In what situations are lists preferred over dictionaries?**\n",
        "   - Lists are preferred over Dictionaries because:\n",
        "          -> Ordered sequence\n",
        "          -> Simple collections\n",
        "          -> Index based access\n",
        "          -> Allows duplicates\n",
        "          -> Fast iteration\n",
        "          -> Easy sorting\n",
        "          -> ordered insertion/removal\n",
        "   - For example:"
      ],
      "metadata": {
        "id": "wr_OdeLv94Qw"
      }
    },
    {
      "cell_type": "code",
      "source": [
        "grocery_list = [\"Carrot\",\"Onion\",\"Tomato\",\"Garlic\",\"Beetroot\"]\n",
        "grocery_list.append(\"Brinjal\")\n",
        "grocery_list.sort()\n",
        "print(grocery_list)"
      ],
      "metadata": {
        "colab": {
          "base_uri": "https://localhost:8080/"
        },
        "id": "FfXblYnN_KUC",
        "outputId": "3e7228f8-011b-4415-9bd3-acece1d31482"
      },
      "execution_count": 5,
      "outputs": [
        {
          "output_type": "stream",
          "name": "stdout",
          "text": [
            "['Beetroot', 'Brinjal', 'Carrot', 'Garlic', 'Onion', 'Tomato']\n"
          ]
        }
      ]
    },
    {
      "cell_type": "markdown",
      "source": [
        "**19. Why are dictionaries considered unordered, and how does that affect data retrieval?**\n",
        "   - *Hashing-based storage:* Dictionaries use a hash table to store keys. The order of elements is based on their hash values, which has nothing to do with the order in which they are entered.\n",
        "   - An unordered data structure does not preserve the order of elements. Elements in such structures are stored in an unpredictable sequence.\n",
        "   - It affects data retrieval:\n",
        "                -> No guaranteed order of elements.\n",
        "                -> Does not allow direct indexing or slicing.\n",
        "                -> Consistent access, but unpredictable structure.\n",
        "                -> Impact on applications that rely on order.\n",
        "   - For example:\n",
        "   "
      ],
      "metadata": {
        "id": "BZyhNBNW_wbC"
      }
    },
    {
      "cell_type": "code",
      "source": [
        "my_dict = {'a': 1, 'b': 2, 'c': 3}\n",
        "for key in my_dict:\n",
        "  print(key)"
      ],
      "metadata": {
        "colab": {
          "base_uri": "https://localhost:8080/"
        },
        "id": "OJt2HhNpDBbC",
        "outputId": "3a095fda-0951-42d5-916e-bc6364467e99"
      },
      "execution_count": 6,
      "outputs": [
        {
          "output_type": "stream",
          "name": "stdout",
          "text": [
            "a\n",
            "b\n",
            "c\n"
          ]
        }
      ]
    },
    {
      "cell_type": "markdown",
      "source": [
        "**20. Explain the difference between a list and a dictionary in terms of data retrieval.**\n",
        "   - Access Method:\n",
        "          List:       (1) Accessed by index\n",
        "                      (2) Retrival is order dependent\n",
        "\n",
        "          Dictionary: (1) Accessed by key\n",
        "                      (2) Retrieval is key-based\n",
        "   - Ordering:\n",
        "          List: Ordered by default; items maintain the sequence they were added in.\n",
        "\n",
        "          Dictionary: Unordered\n",
        "   - Uses:\n",
        "          List: Use a list when there is a need for ordered collection of items accessed by position.\n",
        "\n",
        "          Dictionary: Use a dictionary when there is need to associate values with unique keys for fast lookup.\n",
        "   - For example:\n",
        "\n",
        "    \n",
        "                      \n"
      ],
      "metadata": {
        "id": "-rhMjmXeDRrC"
      }
    },
    {
      "cell_type": "code",
      "source": [
        "my_list = [\"Saa\", 18, 20.23, True, None] # accesed by index\n",
        "print(my_list[1])\n",
        "\n",
        "my_dict = {'name': 'Saa', 'age': 18, 'grade': 'A'} # accessed by key\n",
        "print(my_dict['name'])"
      ],
      "metadata": {
        "colab": {
          "base_uri": "https://localhost:8080/"
        },
        "id": "mUADhWHAGNoa",
        "outputId": "06bf88f9-2a1c-4a39-fa25-3d40d65573b7"
      },
      "execution_count": 7,
      "outputs": [
        {
          "output_type": "stream",
          "name": "stdout",
          "text": [
            "18\n",
            "Saa\n"
          ]
        }
      ]
    },
    {
      "cell_type": "markdown",
      "source": [
        "# Data Types and Structures - Practical Questions"
      ],
      "metadata": {
        "id": "X3Rz8_XAG6SQ"
      }
    },
    {
      "cell_type": "markdown",
      "source": [
        "**1. Write a code to create a string with your name and print it.**"
      ],
      "metadata": {
        "id": "cBPTOhavG__F"
      }
    },
    {
      "cell_type": "code",
      "source": [
        "Name = \"Prathysaa\"\n",
        "print(\"My name is\", (Name)) # Print the string"
      ],
      "metadata": {
        "colab": {
          "base_uri": "https://localhost:8080/"
        },
        "id": "UQjqCf0SHEsw",
        "outputId": "86d3ce69-fdb5-4f61-a5f6-5e8120fc133c"
      },
      "execution_count": 11,
      "outputs": [
        {
          "output_type": "stream",
          "name": "stdout",
          "text": [
            "My name is Prathysaa\n"
          ]
        }
      ]
    },
    {
      "cell_type": "markdown",
      "source": [
        "**2. Write a code to find the length of the string \"Hello World\".**"
      ],
      "metadata": {
        "id": "hLHrLdoOH3QQ"
      }
    },
    {
      "cell_type": "code",
      "source": [
        "str = \"Hello World\"\n",
        "print(len(str)) # Print the length of the string"
      ],
      "metadata": {
        "colab": {
          "base_uri": "https://localhost:8080/"
        },
        "id": "PI7hOo8bH7WK",
        "outputId": "e97ba809-5424-47c6-d8bd-5c2cad46a49a"
      },
      "execution_count": 12,
      "outputs": [
        {
          "output_type": "stream",
          "name": "stdout",
          "text": [
            "11\n"
          ]
        }
      ]
    },
    {
      "cell_type": "markdown",
      "source": [
        "**3. Write a code to slice the first 3 characters from the string \"Python Programming\".**"
      ],
      "metadata": {
        "id": "aBhhjOLfIP28"
      }
    },
    {
      "cell_type": "code",
      "source": [
        "str = \"Python Programming\"\n",
        "print(str[:3]) # Slices the first 3 characters from the string"
      ],
      "metadata": {
        "colab": {
          "base_uri": "https://localhost:8080/"
        },
        "id": "P2oPbMP_IU7F",
        "outputId": "c4259e5e-09d9-4611-afd4-0a7486cf7604"
      },
      "execution_count": 13,
      "outputs": [
        {
          "output_type": "stream",
          "name": "stdout",
          "text": [
            "Pyt\n"
          ]
        }
      ]
    },
    {
      "cell_type": "markdown",
      "source": [
        "**4. Write a code to convert the string \"hello\" to uppercase.**"
      ],
      "metadata": {
        "id": "x-IIdk-vI33F"
      }
    },
    {
      "cell_type": "code",
      "source": [
        "str = \"hello\"\n",
        "print(str.upper()) # converts the string to uppercase\n"
      ],
      "metadata": {
        "colab": {
          "base_uri": "https://localhost:8080/"
        },
        "id": "W5bxcRsMI99m",
        "outputId": "6cf7b510-9905-4a4f-db37-614cf52d7a77"
      },
      "execution_count": 14,
      "outputs": [
        {
          "output_type": "stream",
          "name": "stdout",
          "text": [
            "HELLO\n"
          ]
        }
      ]
    },
    {
      "cell_type": "markdown",
      "source": [
        "**5. Write a code to replace the word \"apple\" with \"orange\" in the string \"I like apple\".**"
      ],
      "metadata": {
        "id": "tXXGYsGCJNbd"
      }
    },
    {
      "cell_type": "code",
      "source": [
        "str =  \"I like apple\"\n",
        "print(str.replace(\"apple\",\"orange\")) # replaces the word apple by the word orange"
      ],
      "metadata": {
        "colab": {
          "base_uri": "https://localhost:8080/"
        },
        "id": "hwWbcOpUJTmb",
        "outputId": "3fe98ef1-84b9-4dbc-e9ce-b4db12f0ae11"
      },
      "execution_count": 15,
      "outputs": [
        {
          "output_type": "stream",
          "name": "stdout",
          "text": [
            "I like orange\n"
          ]
        }
      ]
    },
    {
      "cell_type": "markdown",
      "source": [
        "**6. Write a code to create a list with numbers 1 to 5 and print it.**"
      ],
      "metadata": {
        "id": "cDTFoc2nJrlh"
      }
    },
    {
      "cell_type": "code",
      "source": [
        "my_list = [1,2,3,4,5]\n",
        "print(my_list) # prints the list"
      ],
      "metadata": {
        "colab": {
          "base_uri": "https://localhost:8080/"
        },
        "id": "BNeJJWcZJyk2",
        "outputId": "975df69e-0880-43fc-915e-2abd22ee7a3c"
      },
      "execution_count": 17,
      "outputs": [
        {
          "output_type": "stream",
          "name": "stdout",
          "text": [
            "[1, 2, 3, 4, 5]\n"
          ]
        }
      ]
    },
    {
      "cell_type": "markdown",
      "source": [
        "**7. Write a code to append the number 10 to the list [1, 2, 3, 4].**"
      ],
      "metadata": {
        "id": "g-qMETWxKPiz"
      }
    },
    {
      "cell_type": "code",
      "source": [
        "my_list =  [1, 2, 3, 4]\n",
        "my_list.append(10) # appends the number 10 to the list\n",
        "print(my_list)"
      ],
      "metadata": {
        "colab": {
          "base_uri": "https://localhost:8080/"
        },
        "id": "6NlFphfnKUiB",
        "outputId": "ca4d3cb3-9bc6-47e8-831d-a34ac5af98b5"
      },
      "execution_count": 18,
      "outputs": [
        {
          "output_type": "stream",
          "name": "stdout",
          "text": [
            "[1, 2, 3, 4, 10]\n"
          ]
        }
      ]
    },
    {
      "cell_type": "markdown",
      "source": [
        "**8. Write a code to remove the number 3 from the list [1, 2, 3, 4, 5].**"
      ],
      "metadata": {
        "id": "W5KKTnSpKkb4"
      }
    },
    {
      "cell_type": "code",
      "source": [
        "my_list = [1,2,3,4,5]\n",
        "my_list.remove(3) # removes 3 from the list\n",
        "print(my_list)"
      ],
      "metadata": {
        "colab": {
          "base_uri": "https://localhost:8080/"
        },
        "id": "HcmU5_CsKtd4",
        "outputId": "9c77c652-4e03-4257-e16a-f63377e990d4"
      },
      "execution_count": 19,
      "outputs": [
        {
          "output_type": "stream",
          "name": "stdout",
          "text": [
            "[1, 2, 4, 5]\n"
          ]
        }
      ]
    },
    {
      "cell_type": "markdown",
      "source": [
        "**9. Write a code to access the second element in the list ['a', 'b', 'c', 'd'].**\n",
        "   "
      ],
      "metadata": {
        "id": "J0Ut2hiELA71"
      }
    },
    {
      "cell_type": "code",
      "source": [
        "my_dict = ['a','b','c','d']\n",
        "print(my_dict[1]) #access the second element in the list"
      ],
      "metadata": {
        "colab": {
          "base_uri": "https://localhost:8080/"
        },
        "id": "WHecOEihLIzG",
        "outputId": "0f1e4721-7169-400f-b36b-2e2eb7d10e33"
      },
      "execution_count": 20,
      "outputs": [
        {
          "output_type": "stream",
          "name": "stdout",
          "text": [
            "b\n"
          ]
        }
      ]
    },
    {
      "cell_type": "markdown",
      "source": [
        "**10. Write a code to reverse the list [10, 20, 30, 40, 50].**"
      ],
      "metadata": {
        "id": "5l-xndtLLjf4"
      }
    },
    {
      "cell_type": "code",
      "source": [
        "my_list = [10, 20, 30, 40, 50]\n",
        "print(my_list[::-1]) # Reverses the list"
      ],
      "metadata": {
        "colab": {
          "base_uri": "https://localhost:8080/"
        },
        "id": "OWaQe7SLLoSa",
        "outputId": "b91a0bc0-b828-4fb6-b318-18486e0fd8f4"
      },
      "execution_count": 21,
      "outputs": [
        {
          "output_type": "stream",
          "name": "stdout",
          "text": [
            "[50, 40, 30, 20, 10]\n"
          ]
        }
      ]
    },
    {
      "cell_type": "markdown",
      "source": [
        "**11. Write a code to create a tuple with the elements 100, 200, 300 and print it.**"
      ],
      "metadata": {
        "id": "qPtmByMPL2hn"
      }
    },
    {
      "cell_type": "code",
      "source": [
        "my_tuple = (100,200,300) # creates a tuple\n",
        "print(my_tuple)"
      ],
      "metadata": {
        "colab": {
          "base_uri": "https://localhost:8080/"
        },
        "id": "CDWXJ5W-L788",
        "outputId": "597f9c12-b7e8-4f1a-e875-0960df26c917"
      },
      "execution_count": 22,
      "outputs": [
        {
          "output_type": "stream",
          "name": "stdout",
          "text": [
            "(100, 200, 300)\n"
          ]
        }
      ]
    },
    {
      "cell_type": "markdown",
      "source": [
        "**12. Write a code to access the second-to-last element of the tuple ('red', 'green', 'blue', 'yellow').**"
      ],
      "metadata": {
        "id": "vGmiUfkiMIln"
      }
    },
    {
      "cell_type": "code",
      "source": [
        "my_tuple = ('red', 'green', 'blue', 'yellow')\n",
        "print(my_tuple[-2]) #access the second-to-last element of the tuple"
      ],
      "metadata": {
        "colab": {
          "base_uri": "https://localhost:8080/"
        },
        "id": "iqpvC1meMNQs",
        "outputId": "dc1da5f9-fba5-47cb-859b-c30ddc89df0f"
      },
      "execution_count": 24,
      "outputs": [
        {
          "output_type": "stream",
          "name": "stdout",
          "text": [
            "blue\n"
          ]
        }
      ]
    },
    {
      "cell_type": "markdown",
      "source": [
        "**13. Write a code to find the minimum number in the tuple (10, 20, 5, 15).**"
      ],
      "metadata": {
        "id": "pOqpfEt0NBn6"
      }
    },
    {
      "cell_type": "code",
      "source": [
        "my_tuple = (10, 20, 5, 15)\n",
        "print(min(my_tuple)) # finds the minimum number in the tuple"
      ],
      "metadata": {
        "colab": {
          "base_uri": "https://localhost:8080/"
        },
        "id": "ByGIUSsbNGH7",
        "outputId": "44082e83-0856-4e53-e0a9-22fae0bf744c"
      },
      "execution_count": 25,
      "outputs": [
        {
          "output_type": "stream",
          "name": "stdout",
          "text": [
            "5\n"
          ]
        }
      ]
    },
    {
      "cell_type": "markdown",
      "source": [
        "**14.  Write a code to find the index of the element \"cat\" in the tuple ('dog', 'cat', 'rabbit').**"
      ],
      "metadata": {
        "id": "o9iL9BZeNMKc"
      }
    },
    {
      "cell_type": "code",
      "source": [
        "my_tuple = ('dog', 'cat', 'rabbit')\n",
        "cat_index = my_tuple.index(\"cat\")\n",
        "print(cat_index) #finds the index of the word cat"
      ],
      "metadata": {
        "colab": {
          "base_uri": "https://localhost:8080/"
        },
        "id": "zX4IsIRWNULf",
        "outputId": "56215af7-bcbd-46a3-f1ae-f651c1ab7ecb"
      },
      "execution_count": 28,
      "outputs": [
        {
          "output_type": "stream",
          "name": "stdout",
          "text": [
            "1\n"
          ]
        }
      ]
    },
    {
      "cell_type": "markdown",
      "source": [
        "**15.  Write a code to create a tuple containing three different fruits and check if \"kiwi\" is in it.**"
      ],
      "metadata": {
        "id": "pl6f6jDyOpC5"
      }
    },
    {
      "cell_type": "code",
      "source": [
        "fruits = (\"apple\", \"banana\", \"cherry\") # creates a tuple\n",
        "if \"kiwi\" in fruits: # checks for the word kiwi\n",
        "  print(\"kiwi is in the tuple\")\n",
        "else:\n",
        "  print(\"kiwi is not in the tuple\")"
      ],
      "metadata": {
        "colab": {
          "base_uri": "https://localhost:8080/"
        },
        "id": "xkNvSLoSOwEx",
        "outputId": "5b6c4322-fab5-4b2b-e49f-0339c585ecd1"
      },
      "execution_count": 31,
      "outputs": [
        {
          "output_type": "stream",
          "name": "stdout",
          "text": [
            "kiwi is not in the tuple\n"
          ]
        }
      ]
    },
    {
      "cell_type": "markdown",
      "source": [
        "**16.  Write a code to create a set with the elements 'a', 'b', 'c' and print it.**"
      ],
      "metadata": {
        "id": "JliPpNOyPzwx"
      }
    },
    {
      "cell_type": "code",
      "source": [
        "my_set = {'a','b','c'} # Create a set with elements 'a', 'b', 'c'\n",
        "print(my_set)"
      ],
      "metadata": {
        "colab": {
          "base_uri": "https://localhost:8080/"
        },
        "id": "jqFeG651P6IV",
        "outputId": "b47d2b6c-c316-4946-fcc3-5117fbb50613"
      },
      "execution_count": 33,
      "outputs": [
        {
          "output_type": "stream",
          "name": "stdout",
          "text": [
            "{'a', 'c', 'b'}\n"
          ]
        }
      ]
    },
    {
      "cell_type": "markdown",
      "source": [
        "**17.  Write a code to clear all elements from the set {1, 2, 3, 4, 5}.**"
      ],
      "metadata": {
        "id": "ufslruqLQRa8"
      }
    },
    {
      "cell_type": "code",
      "source": [
        "my_set = {1, 2, 3, 4, 5}\n",
        "my_set.clear() # clears all elements from the set\n",
        "print(my_set)"
      ],
      "metadata": {
        "colab": {
          "base_uri": "https://localhost:8080/"
        },
        "id": "xVgz8dkDQcdn",
        "outputId": "3ec98250-bcbf-46c0-a819-c60a9de008be"
      },
      "execution_count": 35,
      "outputs": [
        {
          "output_type": "stream",
          "name": "stdout",
          "text": [
            "set()\n"
          ]
        }
      ]
    },
    {
      "cell_type": "markdown",
      "source": [
        "**18.  Write a code to remove the element 4 from the set {1, 2, 3, 4}.**"
      ],
      "metadata": {
        "id": "uOj0zdhrQy-l"
      }
    },
    {
      "cell_type": "code",
      "source": [
        "my_set = {1, 2, 3, 4}\n",
        "my_set.remove(4) # removes the element 4 from the set\n",
        "print(my_set)"
      ],
      "metadata": {
        "colab": {
          "base_uri": "https://localhost:8080/"
        },
        "id": "C-RDHhhbQ4mZ",
        "outputId": "ae6188fc-00c4-458d-a343-bc5afc113858"
      },
      "execution_count": 36,
      "outputs": [
        {
          "output_type": "stream",
          "name": "stdout",
          "text": [
            "{1, 2, 3}\n"
          ]
        }
      ]
    },
    {
      "cell_type": "markdown",
      "source": [
        "**19.  Write a code to find the union of two sets {1, 2, 3} and {3, 4, 5}.**"
      ],
      "metadata": {
        "id": "f9DYrHmuRWHM"
      }
    },
    {
      "cell_type": "code",
      "source": [
        "my_set1 = {1, 2, 3}\n",
        "my_set2 = {3, 4, 5}\n",
        "print(my_set1.union(my_set2)) # Finds the union of the two sets"
      ],
      "metadata": {
        "colab": {
          "base_uri": "https://localhost:8080/"
        },
        "id": "FbhypANmRbGX",
        "outputId": "84b7cd5c-fd72-4da0-e931-48a7242f838f"
      },
      "execution_count": 37,
      "outputs": [
        {
          "output_type": "stream",
          "name": "stdout",
          "text": [
            "{1, 2, 3, 4, 5}\n"
          ]
        }
      ]
    },
    {
      "cell_type": "markdown",
      "source": [
        "**20.  Write a code to find the intersection of two sets {1, 2, 3} and {2, 3, 4}.**"
      ],
      "metadata": {
        "id": "n73xvc8MSSPL"
      }
    },
    {
      "cell_type": "code",
      "source": [
        "my_set1 = {1, 2, 3}\n",
        "my_set2 = {2, 3, 4}\n",
        "print(my_set1.intersection(my_set2)) # finds the intersection of two sets"
      ],
      "metadata": {
        "colab": {
          "base_uri": "https://localhost:8080/"
        },
        "id": "u6tcJaiVSY4I",
        "outputId": "05b64bee-c93a-4a8b-8488-a48fab3e38bb"
      },
      "execution_count": 38,
      "outputs": [
        {
          "output_type": "stream",
          "name": "stdout",
          "text": [
            "{2, 3}\n"
          ]
        }
      ]
    },
    {
      "cell_type": "markdown",
      "source": [
        "**21.  Write a code to create a dictionary with the keys \"name\", \"age\", and \"city\", and print it.**"
      ],
      "metadata": {
        "id": "Nrf9NkkGS39U"
      }
    },
    {
      "cell_type": "code",
      "source": [
        "my_dict = {\"name\": \"Saa\",\"age\": 18,\"city\": \"Salem\"} # Create the dictionary\n",
        "print(my_dict)\n"
      ],
      "metadata": {
        "colab": {
          "base_uri": "https://localhost:8080/"
        },
        "id": "YbzhmzrqS-oH",
        "outputId": "e1b00213-fae6-46aa-bbd1-9e866284d36b"
      },
      "execution_count": 39,
      "outputs": [
        {
          "output_type": "stream",
          "name": "stdout",
          "text": [
            "{'name': 'Saa', 'age': 18, 'city': 'Salem'}\n"
          ]
        }
      ]
    },
    {
      "cell_type": "markdown",
      "source": [
        "**22.  Write a code to add a new key-value pair \"country\": \"USA\" to the dictionary {'name': 'John', 'age': 25}.**"
      ],
      "metadata": {
        "id": "1jWYPAALTVEK"
      }
    },
    {
      "cell_type": "code",
      "source": [
        "my_dict = {'name': 'John', 'age': 25}\n",
        "my_dict['country'] = \"USA\" # Add a new key-value pair\n",
        "print(my_dict)"
      ],
      "metadata": {
        "colab": {
          "base_uri": "https://localhost:8080/"
        },
        "id": "AuQTeqxsTavP",
        "outputId": "21332d41-edd9-47ba-b3fc-29416ffec456"
      },
      "execution_count": 41,
      "outputs": [
        {
          "output_type": "stream",
          "name": "stdout",
          "text": [
            "{'name': 'John', 'age': 25, 'country': 'USA'}\n"
          ]
        }
      ]
    },
    {
      "cell_type": "markdown",
      "source": [
        "**23.  Write a code to access the value associated with the key \"name\" in the dictionary {'name': 'Alice', 'age': 30}.**"
      ],
      "metadata": {
        "id": "cXP5glQpUMJW"
      }
    },
    {
      "cell_type": "code",
      "source": [
        "my_dict =  {'name': 'Alice', 'age': 30}\n",
        "print(my_dict['name']) # access the value associated with the key \"name\""
      ],
      "metadata": {
        "colab": {
          "base_uri": "https://localhost:8080/"
        },
        "id": "4CO8hpVbUYCn",
        "outputId": "396186cd-1cfb-4a8f-b09d-60f32988c37f"
      },
      "execution_count": 42,
      "outputs": [
        {
          "output_type": "stream",
          "name": "stdout",
          "text": [
            "Alice\n"
          ]
        }
      ]
    },
    {
      "cell_type": "markdown",
      "source": [
        "**24.  Write a code to remove the key \"age\" from the dictionary {'name': 'Bob', 'age': 22, 'city': 'New York'}.**"
      ],
      "metadata": {
        "id": "OOMjwHgFUvtj"
      }
    },
    {
      "cell_type": "code",
      "source": [
        "my_dict = {'name': 'Bob', 'age': 22, 'city': 'New York'}\n",
        "my_dict.pop('age') # removes the key \"age\" from the dictionary\n",
        "print(my_dict)"
      ],
      "metadata": {
        "colab": {
          "base_uri": "https://localhost:8080/"
        },
        "id": "yxuwCAPFU2RG",
        "outputId": "81b01164-c4a3-4067-a434-8869ea9ec1db"
      },
      "execution_count": 43,
      "outputs": [
        {
          "output_type": "stream",
          "name": "stdout",
          "text": [
            "{'name': 'Bob', 'city': 'New York'}\n"
          ]
        }
      ]
    },
    {
      "cell_type": "markdown",
      "source": [
        "**25. Write a code to check if the key \"city\" exists in the dictionary {'name': 'Alice', 'city': 'Paris'}.**"
      ],
      "metadata": {
        "id": "eV69OuhqbpD3"
      }
    },
    {
      "cell_type": "code",
      "source": [
        "my_dict = {'name': 'Alice', 'city': 'Paris'}\n",
        "if 'city' in my_dict: # Check if the key \"city\" exists\n",
        "  print('The key \"city\" exists in the dictionary')\n",
        "else:\n",
        "  print('The key \"city\" does not exists in the dictionary')"
      ],
      "metadata": {
        "colab": {
          "base_uri": "https://localhost:8080/"
        },
        "id": "DCGgxKqObym7",
        "outputId": "66c199eb-39c6-40cd-fd68-b1b9dd2cb6f4"
      },
      "execution_count": 47,
      "outputs": [
        {
          "output_type": "stream",
          "name": "stdout",
          "text": [
            "The key \"city\" exists in the dictionary\n"
          ]
        }
      ]
    },
    {
      "cell_type": "markdown",
      "source": [
        "**26. Write a code to create a list, a tuple, and a dictionary, and print them all.**"
      ],
      "metadata": {
        "id": "7052ZdY3c8bO"
      }
    },
    {
      "cell_type": "code",
      "source": [
        "my_list = [1,2,3,4]\n",
        "my_tuple = (1,2,3,4)\n",
        "my_dict = {\"name\": \"Dev\",\"age\": 48,\"salary\": \"60000\"}\n",
        "print(\"List:\", my_list) # create a list\n",
        "print(\"Tuple:\", my_tuple) # create a tuple\n",
        "print(\"Dictionary:\", my_dict) # create a dictionary"
      ],
      "metadata": {
        "colab": {
          "base_uri": "https://localhost:8080/"
        },
        "id": "SOv2vl-idD8v",
        "outputId": "b451c2f9-1269-41e7-9b8b-65d9d310d08b"
      },
      "execution_count": 49,
      "outputs": [
        {
          "output_type": "stream",
          "name": "stdout",
          "text": [
            "List: [1, 2, 3, 4]\n",
            "Tuple: (1, 2, 3, 4)\n",
            "Dictionary: {'name': 'Dev', 'age': 48, 'salary': '60000'}\n"
          ]
        }
      ]
    },
    {
      "cell_type": "markdown",
      "source": [
        "**27. Write a code to create a list of 5 random numbers between 1 and 100, sort it in ascending order, and print the\n",
        "result.(replaced)**"
      ],
      "metadata": {
        "id": "PfSQRQ77eCkt"
      }
    },
    {
      "cell_type": "code",
      "source": [
        "import random\n",
        "random_list = []\n",
        "for i in range (5):\n",
        "  random_list.append(random.randint(1,101)) # Create a list of 5 random numbers between 1 and 100\n",
        "  random_list.sort() # Sort the list in ascending order\n",
        "print(random_list)"
      ],
      "metadata": {
        "colab": {
          "base_uri": "https://localhost:8080/"
        },
        "id": "pnX2-y8YehK1",
        "outputId": "bceef15a-6fc2-4d79-d54d-a4004cbf3553"
      },
      "execution_count": 52,
      "outputs": [
        {
          "output_type": "stream",
          "name": "stdout",
          "text": [
            "[21, 24, 50, 62, 93]\n"
          ]
        }
      ]
    },
    {
      "cell_type": "markdown",
      "source": [
        "**28. Write a code to create a list with strings and print the element at the third index.**"
      ],
      "metadata": {
        "id": "IQANENd-gcWE"
      }
    },
    {
      "cell_type": "code",
      "source": [
        "lst = [\"Summer\",\"Winter\",\"Spring\",\"Autumn\"]\n",
        "print(lst[2]) # prints the element at the third index."
      ],
      "metadata": {
        "colab": {
          "base_uri": "https://localhost:8080/"
        },
        "id": "lbZNi-tZgi8i",
        "outputId": "b3cf8b7b-8a04-4b84-ee1b-304a9c92d818"
      },
      "execution_count": 53,
      "outputs": [
        {
          "output_type": "stream",
          "name": "stdout",
          "text": [
            "Spring\n"
          ]
        }
      ]
    },
    {
      "cell_type": "markdown",
      "source": [
        "**29. Write a code to combine two dictionaries into one and print the result.**"
      ],
      "metadata": {
        "id": "jOyDeP7XhOPq"
      }
    },
    {
      "cell_type": "code",
      "source": [
        "my_dict1 = {'a': 1, 'b': 2}\n",
        "my_dict2 = {'c': 3, 'd': 4}\n",
        "my_dict1.update(my_dict2) # combine two dictionaries into one\n",
        "print(my_dict1)"
      ],
      "metadata": {
        "colab": {
          "base_uri": "https://localhost:8080/"
        },
        "id": "hEAnhIJYhR4t",
        "outputId": "eb5a9073-4495-4210-a083-fd192bb6fbfc"
      },
      "execution_count": 54,
      "outputs": [
        {
          "output_type": "stream",
          "name": "stdout",
          "text": [
            "{'a': 1, 'b': 2, 'c': 3, 'd': 4}\n"
          ]
        }
      ]
    },
    {
      "cell_type": "markdown",
      "source": [
        "**30. Write a code to convert a list of strings into a set.**"
      ],
      "metadata": {
        "id": "HdPMfLcXh34C"
      }
    },
    {
      "cell_type": "code",
      "source": [
        "lst = [\"Yellow\",\"Green\",\"Blue\",\"Pink\",\"Brown\",\"Red\"]\n",
        "my_set = set(lst) # Convert the list into a set\n",
        "print(my_set)"
      ],
      "metadata": {
        "colab": {
          "base_uri": "https://localhost:8080/"
        },
        "id": "mv43VtITh9xZ",
        "outputId": "dbee0b42-cc3c-43e8-9285-f4a84b2733d4"
      },
      "execution_count": 61,
      "outputs": [
        {
          "output_type": "stream",
          "name": "stdout",
          "text": [
            "{'Yellow', 'Red', 'Blue', 'Brown', 'Pink', 'Green'}\n"
          ]
        }
      ]
    }
  ]
}